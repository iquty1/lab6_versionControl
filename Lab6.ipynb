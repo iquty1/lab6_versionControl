{
 "cells": [
  {
   "cell_type": "markdown",
   "metadata": {},
   "source": [
    "Sam and Ibrahim's Lab 6"
   ]
  },
  {
   "cell_type": "code",
   "execution_count": 4,
   "metadata": {},
   "outputs": [
    {
     "name": "stdin",
     "output_type": "stream",
     "text": [
      "Enter your name!: sam\n",
      "Enter How many times you would like your name to be printed:  p\n"
     ]
    },
    {
     "name": "stdout",
     "output_type": "stream",
     "text": [
      "Please enter an integer\n"
     ]
    },
    {
     "name": "stdin",
     "output_type": "stream",
     "text": [
      "Enter How many times you would like your name to be printed:  -5\n"
     ]
    },
    {
     "name": "stdout",
     "output_type": "stream",
     "text": [
      "Please enter a positive integer\n"
     ]
    },
    {
     "name": "stdin",
     "output_type": "stream",
     "text": [
      "Enter How many times you would like your name to be printed:  6.6\n"
     ]
    },
    {
     "name": "stdout",
     "output_type": "stream",
     "text": [
      "Please enter an integer\n"
     ]
    },
    {
     "name": "stdin",
     "output_type": "stream",
     "text": [
      "Enter How many times you would like your name to be printed:  9\n"
     ]
    },
    {
     "name": "stdout",
     "output_type": "stream",
     "text": [
      "sam\n",
      "sam\n",
      "sam\n",
      "sam\n",
      "sam\n",
      "sam\n",
      "sam\n",
      "sam\n",
      "sam\n"
     ]
    }
   ],
   "source": [
    "nameString = input(\"Enter your name!:\")\n",
    "times = -1\n",
    "while(times<=0):\n",
    "    try:\n",
    "        times= int(input(\"Enter How many times you would like your name to be printed: \"))\n",
    "    except:\n",
    "        print(\"Please enter an integer\")\n",
    "        continue\n",
    "    if(times<=0):\n",
    "        print(\"Please enter a positive integer\")\n",
    "for i in range(times):\n",
    "    print(nameString)\n"
   ]
  },
  {
   "cell_type": "code",
   "execution_count": null,
   "metadata": {},
   "outputs": [],
   "source": []
  }
 ],
 "metadata": {
  "kernelspec": {
   "display_name": "Python 3",
   "language": "python",
   "name": "python3"
  },
  "language_info": {
   "codemirror_mode": {
    "name": "ipython",
    "version": 3
   },
   "file_extension": ".py",
   "mimetype": "text/x-python",
   "name": "python",
   "nbconvert_exporter": "python",
   "pygments_lexer": "ipython3",
   "version": "3.8.3"
  }
 },
 "nbformat": 4,
 "nbformat_minor": 4
}
